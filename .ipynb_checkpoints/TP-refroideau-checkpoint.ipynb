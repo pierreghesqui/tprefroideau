{
 "cells": [
  {
   "cell_type": "markdown",
   "id": "01703a63",
   "metadata": {},
   "source": [
    "# TP modélisation du refroidissement de l'eau"
   ]
  },
  {
   "cell_type": "markdown",
   "id": "08e0d13e",
   "metadata": {},
   "source": [
    "✍️**Compléter puis exécuter le code ci-dessous.**\n"
   ]
  },
  {
   "cell_type": "code",
   "execution_count": null,
   "id": "858cc43b",
   "metadata": {},
   "outputs": [],
   "source": [
    "import matplotlib.pyplot as plt\n",
    "import numpy as np\n",
    "\n",
    "#================= VALEURS EXPÉRIMENTALES MESURÉES : ==========\n",
    "t_exp     =[...,...] #A compléter : listes de vos valeurs du temps (en s)\n",
    "                     #Attention, les nombres à virgules s'écrivent avec des points\n",
    "                     #Séparer chaque élément de la liste par des virgules\n",
    "    \n",
    "theta_exp =[...,...] #A compléter: listes des valeurs des températures (en °C)\n",
    "\n",
    "T_exp = [] # Ne pas modifier : liste vide qui contiendra les valeurs des températures en degré Kelvin \n",
    "           # Cette liste sera remplie grâce à la boucle for ci-dessous\n",
    "    \n",
    "for i in range(...): #A compléter\n",
    "    T = theta_exp[i] + ...    # A compléter pour convertir la valeur de température en degré Kelvin\n",
    "    T_exp.append(...)         # A compléter (on rappelle que la foncion append ajoute l'élément entre parenthèse à la liste)\n",
    "\n",
    "#================= TRACÉ DU GRAPHIQUE (ne pas modifier) =========================\n",
    "plt.clf()\n",
    "plt.plot(t_exp,T_exp,'x')\n",
    "plt.title(\"Valeurs expérimentales\")\n",
    "plt.xlabel(\"t (en s)\")\n",
    "plt.ylabel(\"T (en K)\")\n",
    "\n",
    "plt.show()"
   ]
  },
  {
   "cell_type": "markdown",
   "id": "8cbaf84d",
   "metadata": {},
   "source": [
    "✍️**A partir du graphique ci-dessus, estimer les valeurs de la température initiale $T_{ini}$, finale $T_{fin}$ et du temps caractéristique $\\tau$**.<br>\n",
    "*Indice : pour déterminer la valeur de $\\tau$, on s'inspirera de la méthode vue dans le chapitre ELEC*\n",
    "\n",
    "✍️**Compléter puis exécuter le code ci-dessous.**"
   ]
  },
  {
   "cell_type": "code",
   "execution_count": null,
   "id": "7ecfe199",
   "metadata": {},
   "outputs": [],
   "source": [
    "T_ini   = ...    #A compléter : Température initiale (en K)\n",
    "T_fin   = ...    #A compléter : empérature finale   (en K)\n",
    "A       = ...    #A compléter : Expression de la constante A de l'équation différentielle\n",
    "B       = ...    #A compléter : Expression de la constante B de l'équation différentielle\n",
    "tau     = ...    #A compléter : Valeur de tau (en s) trouvée grâce au graphique précédent\n",
    "t_model = np.arange(0,300,10)     #Ne pas modifier : liste de valeurs de t\n",
    "T_model = A+B*np.exp(-t_model/tau) #Ne pas modifier : expression de la solution de l'équation différentielle\n",
    "\n",
    "#============ TRACÉ DU GRAPHIQUE (ne pas modifier) ===========\n",
    "plt.clf()\n",
    "plt.plot(t_exp,T_exp,'x',label=\"valeurs expérimentales\")\n",
    "plt.plot(t_model,T_model,label=\"modélisation théorique : $A+B \\cdot exp(-\\\\frac{t}{\\\\tau})$\")\n",
    "tangente = (-B/tau)*np.arange(0,tau+20,10)+T_ini\n",
    "plt.plot(np.arange(0,tau+20,10),tangente,'--',label=\"tangente à l'origine\")\n",
    "plt.plot(t_model,T_fin*np.ones(len(t_model)),'--',label=\"asymptote en $+\\\\infty$\")\n",
    "\n",
    "plt.legend()\n",
    "plt.grid()\n",
    "plt.title(\"Comparaison entre la modélisation et les valeurs expérimentales\")\n",
    "plt.xlabel(\"t (en s)\")\n",
    "plt.ylabel(\"T (en K)\")\n",
    "axes = plt.gca()\n",
    "axes.yaxis.set_ticks(np.arange(250,373,10))\n",
    "axes.xaxis.set_ticks(np.arange(0,np.max([np.max(t_model),np.max(t_exp)]),40))\n",
    "axes.xaxis.set_ticks(np.arange(0,np.max([np.max(t_model),np.max(t_exp)]),20), minor = True)\n",
    "plt.show()"
   ]
  },
  {
   "cell_type": "markdown",
   "id": "4083a4d9",
   "metadata": {},
   "source": [
    "✍️**Affiner les paramètres $T_{ini}$, $T_{fin}$ et $\\tau$ dans le code précédent pour ajuster au mieux le modèle avec les valeurs expérimentales, puis réexécuter le code.**"
   ]
  }
 ],
 "metadata": {
  "kernelspec": {
   "display_name": "Python 3 (ipykernel)",
   "language": "python",
   "name": "python3"
  },
  "language_info": {
   "codemirror_mode": {
    "name": "ipython",
    "version": 3
   },
   "file_extension": ".py",
   "mimetype": "text/x-python",
   "name": "python",
   "nbconvert_exporter": "python",
   "pygments_lexer": "ipython3",
   "version": "3.9.12"
  }
 },
 "nbformat": 4,
 "nbformat_minor": 5
}
